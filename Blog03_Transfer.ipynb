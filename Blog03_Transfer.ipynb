{
 "cells": [
  {
   "cell_type": "markdown",
   "id": "35abe7f9-09b0-4b91-8378-3a63dd1b66da",
   "metadata": {
    "id": "35abe7f9-09b0-4b91-8378-3a63dd1b66da"
   },
   "source": [
    "- title: \"Neural style transfer 2: style\"\n",
    "- description: \"Feature visualization with PyTorch\"\n",
    "- toc: false\n",
    "- branch: master\n",
    "- badges: true\n",
    "- comments: true\n",
    "- categories: [fastpages, jupyter]\n",
    "- image: images/some_folder/your_image.png\n",
    "- hide: false\n",
    "- search_exclude: true\n",
    "- metadata_key1: metadata_value1\n",
    "- metadata_key2: metadata_value2"
   ]
  },
  {
   "cell_type": "code",
   "execution_count": 1,
   "id": "878aa2c5-0e9b-4949-b5a8-ba7c91cbcb3e",
   "metadata": {
    "executionInfo": {
     "elapsed": 5670,
     "status": "ok",
     "timestamp": 1625217900805,
     "user": {
      "displayName": "Arthur Bauville",
      "photoUrl": "",
      "userId": "13412020910432312638"
     },
     "user_tz": -540
    },
    "id": "878aa2c5-0e9b-4949-b5a8-ba7c91cbcb3e"
   },
   "outputs": [],
   "source": [
    "# Imports\n",
    "import torch\n",
    "import torchvision\n",
    "from torch import nn\n",
    "import skimage\n",
    "from skimage import transform\n",
    "from skimage import io\n",
    "# from im_func import show_image, timer\n",
    "import numpy as np\n",
    "import matplotlib.pyplot as plt\n",
    "from IPython.display import display, clear_output\n",
    "import torch.nn.functional as F\n",
    "import torchvision.transforms.functional as TF\n",
    "from time import time\n",
    "import contextlib\n",
    "\n",
    "@contextlib.contextmanager\n",
    "def timer(msg='timer'):\n",
    "    tic = time()\n",
    "    yield\n",
    "    return print(f\"{msg}: {time() - tic:.2f}\")"
   ]
  },
  {
   "cell_type": "markdown",
   "id": "AIriGZFSwulg",
   "metadata": {
    "id": "AIriGZFSwulg"
   },
   "source": [
    "# Image class"
   ]
  },
  {
   "cell_type": "code",
   "execution_count": 2,
   "id": "e4c22e8f-37a3-4f52-9f8e-e0701e6863c2",
   "metadata": {
    "executionInfo": {
     "elapsed": 9,
     "status": "ok",
     "timestamp": 1625217900809,
     "user": {
      "displayName": "Arthur Bauville",
      "photoUrl": "",
      "userId": "13412020910432312638"
     },
     "user_tz": -540
    },
    "id": "e4c22e8f-37a3-4f52-9f8e-e0701e6863c2"
   },
   "outputs": [],
   "source": [
    "rgb_mean = torch.tensor([0.485, 0.456, 0.406]) # Fixed values for PyTorch pretrained models\n",
    "rgb_std = torch.tensor([0.229, 0.224, 0.225])\n",
    "\n",
    "class Image(nn.Module):\n",
    "    def __init__(self, img=None, optimizable=True, img_shape=[64,64], jit_max=2, angle_max=2.0, shift_ini_i=0, shift_ini_j=0):\n",
    "        super(Image,self).__init__()\n",
    "        \n",
    "        self.img_shape = img_shape\n",
    "        \n",
    "        if type(img)==type(None):\n",
    "            torch.manual_seed(42)\n",
    "            self.img = torch.rand([1, 3] + self.img_shape)\n",
    "        else:\n",
    "            self.img = img\n",
    "            self.img = self.preprocess()\n",
    "            self.img = self.jitter_transform(self.img,0,shift_ini_i, shift_ini_j)\n",
    "        if optimizable == True:\n",
    "            self.img = nn.Parameter(self.img)\n",
    "         \n",
    "        self.jit_i = 0\n",
    "        self.jit_j = 0\n",
    "        self.jit_max = jit_max\n",
    "        self.angle = 0.0\n",
    "        self.angle_max = angle_max\n",
    "\n",
    "        \n",
    "    def preprocess(self):\n",
    "        with torch.no_grad():\n",
    "            transforms = torchvision.transforms.Compose([\n",
    "                torchvision.transforms.ToPILImage(),\n",
    "                torchvision.transforms.Resize(self.img_shape),\n",
    "                torchvision.transforms.ToTensor(),\n",
    "            ])\n",
    "            return transforms(self.img).unsqueeze(0)\n",
    "            \n",
    "\n",
    "    def postprocess(self):\n",
    "        with torch.no_grad():\n",
    "            img = self.img.data[0].to(rgb_std.device).clone()\n",
    "        return torchvision.transforms.ToPILImage()(img.permute(1, 2, 0).permute(2, 0, 1))\n",
    "          \n",
    "    def jitter_transform(self,img,angle,jit_i, jit_j):\n",
    "        return torchvision.transforms.functional.affine(img, angle=angle, translate=(jit_i/self.img_shape[1], jit_j/self.img_shape[0]), scale=1., shear=[0.0,0.0])\n",
    "        \n",
    "    def jittered_image(self):\n",
    "        with torch.no_grad():\n",
    "            jit_max = 2\n",
    "            temp = np.random.standard_normal(2)*2.0\n",
    "            self.jit_i += temp[0]\n",
    "            self.jit_j += temp[1]\n",
    "\n",
    "            self.angle += np.random.standard_normal(1)[0]*1.0\n",
    "            self.angle = np.clip(self.angle,-self.angle_max,self.angle_max)\n",
    "            self.jit_i, self.jit_j = np.clip([self.jit_i, self.jit_j],-self.jit_max,self.jit_max)#.astype(int)\n",
    "            print(self.angle, self.jit_i, self.jit_j, temp)\n",
    "            return self.jitter_transform(self.img.data,self.angle,self.jit_i, self.jit_j)\n",
    "#             return torchvision.transforms.functional.affine(self.img.data, angle=self.angle, translate=(self.jit_i/self.img_shape[1], self.jit_j/self.img_shape[0]), scale=1., shear=[0.0,0.0])\n",
    "            \n",
    "        \n",
    "    def forward(self, jitter=False):\n",
    "        if jitter:\n",
    "            return self.jittered_image().to(device)\n",
    "        else:\n",
    "            return self.img.to(device)\n",
    "            "
   ]
  },
  {
   "cell_type": "markdown",
   "id": "aYluJ_Lowwhe",
   "metadata": {
    "id": "aYluJ_Lowwhe"
   },
   "source": [
    "# Pretrained network"
   ]
  },
  {
   "cell_type": "code",
   "execution_count": 3,
   "id": "94d2ec43-9d5a-4c6c-8763-389e1d1886fd",
   "metadata": {
    "colab": {
     "base_uri": "https://localhost:8080/",
     "height": 644,
     "referenced_widgets": [
      "c3ec3845d65344cfaf868bb2b1058b82",
      "6832757c6ad84c80a38a4efffc2a9a2e",
      "bab8060f0b6449d8bf97f63ae91a58fa",
      "7677dbd9ca004d4f8e4cc44213431bda",
      "044cac7b4cc84538a261a910f0b0dec8",
      "04a6755b52bb49779d8f9771c5654d8b",
      "50fea2b143e34b3eb2e870c6272038c1",
      "74e0b1652130455282610086e242fde9"
     ]
    },
    "executionInfo": {
     "elapsed": 7067,
     "status": "ok",
     "timestamp": 1625217907870,
     "user": {
      "displayName": "Arthur Bauville",
      "photoUrl": "",
      "userId": "13412020910432312638"
     },
     "user_tz": -540
    },
    "id": "94d2ec43-9d5a-4c6c-8763-389e1d1886fd",
    "outputId": "f12cb84a-3471-471a-8151-9f8eeb39fb56"
   },
   "outputs": [
    {
     "data": {
      "text/plain": [
       "Sequential(\n",
       "  (0): Conv2d(3, 64, kernel_size=(3, 3), stride=(1, 1), padding=(1, 1))\n",
       "  (1): ReLU(inplace=True)\n",
       "  (2): Conv2d(64, 64, kernel_size=(3, 3), stride=(1, 1), padding=(1, 1))\n",
       "  (3): ReLU(inplace=True)\n",
       "  (4): MaxPool2d(kernel_size=2, stride=2, padding=0, dilation=1, ceil_mode=False)\n",
       "  (5): Conv2d(64, 128, kernel_size=(3, 3), stride=(1, 1), padding=(1, 1))\n",
       "  (6): ReLU(inplace=True)\n",
       "  (7): Conv2d(128, 128, kernel_size=(3, 3), stride=(1, 1), padding=(1, 1))\n",
       "  (8): ReLU(inplace=True)\n",
       "  (9): MaxPool2d(kernel_size=2, stride=2, padding=0, dilation=1, ceil_mode=False)\n",
       "  (10): Conv2d(128, 256, kernel_size=(3, 3), stride=(1, 1), padding=(1, 1))\n",
       "  (11): ReLU(inplace=True)\n",
       "  (12): Conv2d(256, 256, kernel_size=(3, 3), stride=(1, 1), padding=(1, 1))\n",
       "  (13): ReLU(inplace=True)\n",
       "  (14): Conv2d(256, 256, kernel_size=(3, 3), stride=(1, 1), padding=(1, 1))\n",
       "  (15): ReLU(inplace=True)\n",
       "  (16): MaxPool2d(kernel_size=2, stride=2, padding=0, dilation=1, ceil_mode=False)\n",
       "  (17): Conv2d(256, 512, kernel_size=(3, 3), stride=(1, 1), padding=(1, 1))\n",
       "  (18): ReLU(inplace=True)\n",
       "  (19): Conv2d(512, 512, kernel_size=(3, 3), stride=(1, 1), padding=(1, 1))\n",
       "  (20): ReLU(inplace=True)\n",
       "  (21): Conv2d(512, 512, kernel_size=(3, 3), stride=(1, 1), padding=(1, 1))\n",
       "  (22): ReLU(inplace=True)\n",
       "  (23): MaxPool2d(kernel_size=2, stride=2, padding=0, dilation=1, ceil_mode=False)\n",
       "  (24): Conv2d(512, 512, kernel_size=(3, 3), stride=(1, 1), padding=(1, 1))\n",
       "  (25): ReLU(inplace=True)\n",
       "  (26): Conv2d(512, 512, kernel_size=(3, 3), stride=(1, 1), padding=(1, 1))\n",
       "  (27): ReLU(inplace=True)\n",
       "  (28): Conv2d(512, 512, kernel_size=(3, 3), stride=(1, 1), padding=(1, 1))\n",
       "  (29): ReLU(inplace=True)\n",
       "  (30): MaxPool2d(kernel_size=2, stride=2, padding=0, dilation=1, ceil_mode=False)\n",
       ")"
      ]
     },
     "metadata": {},
     "output_type": "display_data"
    }
   ],
   "source": [
    "pretrained_net = torchvision.models.vgg16(pretrained=True)#.features.to(device).eval()\n",
    "display(pretrained_net.features)\n"
   ]
  },
  {
   "cell_type": "markdown",
   "id": "-1M4iEFLw5y7",
   "metadata": {
    "id": "-1M4iEFLw5y7"
   },
   "source": [
    "# SmallNet class"
   ]
  },
  {
   "cell_type": "code",
   "execution_count": 4,
   "id": "d4d6fc89-75f1-4300-8691-1daca508396a",
   "metadata": {
    "executionInfo": {
     "elapsed": 6,
     "status": "ok",
     "timestamp": 1625217907871,
     "user": {
      "displayName": "Arthur Bauville",
      "photoUrl": "",
      "userId": "13412020910432312638"
     },
     "user_tz": -540
    },
    "id": "d4d6fc89-75f1-4300-8691-1daca508396a"
   },
   "outputs": [],
   "source": [
    "class SmallNet(nn.Module):\n",
    "    def __init__(self, pretrained_net, last_layer):\n",
    "        super(SmallNet,self).__init__()\n",
    "        self.net= nn.Sequential(*([torchvision.transforms.Normalize(mean=rgb_mean, std=rgb_std)] + \n",
    "                     [pretrained_net.features[i]\n",
    "                            for i in range(last_layer + 1)])).to(device).eval()\n",
    "\n",
    "        \n",
    "    def forward(self, X, extract_layers, gram=False):\n",
    "        # Passes the image X through the pretrained network and \n",
    "        # returns a list containing the feature maps of layers specified in the list extract_layers\n",
    "        detach = not(X.requires_grad) # We don't want to keep track of the gradients on the content image\n",
    "        feature_maps = {}\n",
    "        for il in range(len(self.net)):\n",
    "            X = self.net[il](X)\n",
    "            if (il-1 in extract_layers): # note: il-1 because I added a normalization layer before the pretrained net in self.net\n",
    "                if detach:\n",
    "                    feature_maps[il-1] = X.clone().detach()\n",
    "                else:\n",
    "                    feature_maps[il-1] = X.clone()\n",
    "        return feature_maps"
   ]
  },
  {
   "cell_type": "markdown",
   "id": "mmG2-_mM4qU2",
   "metadata": {
    "id": "mmG2-_mM4qU2"
   },
   "source": [
    "# Losses class"
   ]
  },
  {
   "cell_type": "code",
   "execution_count": 5,
   "id": "49346faf-00f5-4494-94c4-46e461f8125c",
   "metadata": {
    "executionInfo": {
     "elapsed": 650,
     "status": "ok",
     "timestamp": 1625217908516,
     "user": {
      "displayName": "Arthur Bauville",
      "photoUrl": "",
      "userId": "13412020910432312638"
     },
     "user_tz": -540
    },
    "id": "49346faf-00f5-4494-94c4-46e461f8125c"
   },
   "outputs": [],
   "source": [
    "class Losses(nn.Module):\n",
    "    def __init__(self, img_ref, \n",
    "                 content_weight=1.0, style_weight=1.0, tv_weight_ini=0.0, clamp_weight_ini=1.0, int_weight_ini=0.0, \n",
    "                 alpha=6, beta=1.5,\n",
    "                 weight_adjust_bounds=[0.01,0.1],\n",
    "                 weight_adjust_fac=[1.5, 0.75]):\n",
    "        # img_ref is used to compute a reference total variation and reference intensity\n",
    "        # tv_weight: weight of the total variation regularizer\n",
    "        # int_weight: weight of the intensity regularizer\n",
    "        # alpha: exponent for the intensity regularizer\n",
    "        # beta: exponent for the total variation regularizer\n",
    "        super(Losses,self).__init__()\n",
    "        self.content_weight = content_weight\n",
    "        self.style_weight   = style_weight\n",
    "        self.tv_weight      = tv_weight_ini\n",
    "        self.int_weight     = int_weight_ini\n",
    "        self.clamp_weight   = clamp_weight_ini\n",
    "\n",
    "        self.content_loss   = 0.0\n",
    "        self.style_loss     = 0.0\n",
    "        self.tv_loss        = 0.0\n",
    "        self.int_loss       = 0.0\n",
    "        self.clamp_loss       = 0.0\n",
    "        self.total_loss     = 0.0\n",
    "\n",
    "        self.last_content_loss   = 1e10\n",
    "        self.last_style_loss     = 1e10\n",
    "        self.last_tv_loss        = 1e10\n",
    "        self.last_int_loss       = 1e10\n",
    "        self.last_clamp_loss       = 0.0\n",
    "        self.last_total_loss     = 1e10\n",
    "        \n",
    "        self.alpha          = alpha\n",
    "        self.beta           = beta\n",
    "        \n",
    "        self.B, self.V      = self.get_regularizer_refs(img_ref)\n",
    "        \n",
    "        self.weight_adjust_bounds   = weight_adjust_bounds\n",
    "        self.weight_adjust_fac      = weight_adjust_fac\n",
    "        \n",
    "    \n",
    "\n",
    "    def get_content_loss(self, Y_hat, Y, reduction='mean'):\n",
    "        # Mean squared error between generated and content image\n",
    "        loss = 0\n",
    "        count = 0\n",
    "        for key, y in Y.items():\n",
    "            if key in Y_hat.keys():\n",
    "                y_hat = Y_hat[key]\n",
    "                loss += F.mse_loss(y_hat, \n",
    "                             y.detach(),reduction=reduction)\n",
    "                count += 1\n",
    "        return loss/count\n",
    "\n",
    "        loss = 0\n",
    "        for i in range(len(feature_map_content)):\n",
    "            loss += torch.mean((feature_map_content[i]-feature_map_gen[i])**2)\n",
    "        return loss\n",
    "\n",
    "    def get_gram(self, feature_map, delta=0, dir=0):\n",
    "        # delta is a translation for longd-distance cross correlation, see: https://arxiv.org/pdf/1606.01286.pdf\n",
    "        # dir is the direction (0=x; 1=y) in which the cross correlation is computed\n",
    "        # for fm in feature_maps:\n",
    "        # print(\"B\")\n",
    "        # print(feature_map.shape)\n",
    "        a, b, c, d = feature_map.size()  # a=batch size(=1)\n",
    "        pad = delta\n",
    "\n",
    "        if delta==0:\n",
    "            features = feature_map.view(a * b, c * d)  # resise F_XL into \\hat F_XL\n",
    "            # G = torch.mm(features, features.t())  # compute the gram product\n",
    "            G = torch.mm(features, features.t())  # compute the gram product\n",
    "        else: \n",
    "            if dir==0:\n",
    "                fm_pad = F.pad(feature_map, [pad,pad,0,0])\n",
    "                fm_minus_delta = fm_pad[:,:,pad-delta : pad-delta+c, :].clone()\n",
    "                fm_plus_delta  = fm_pad[:,:,pad+delta : pad+delta+c, :].clone()\n",
    "            elif dir==1:\n",
    "                fm_pad = F.pad(feature_map, [0,0,pad,pad])\n",
    "                fm_minus_delta = fm_pad[:,:,:, pad-delta : pad-delta+d].clone()\n",
    "                fm_plus_delta  = fm_pad[:,:,:, pad+delta : pad+delta+d].clone()\n",
    "            else: \n",
    "                raise ValueError(f\"unknown dir {dir}, accepted values are 0 or 1\")\n",
    "\n",
    "            fm_minus_delta = feature_map.view(a * b, c * d)  # resise F_XL into \\hat F_XL\n",
    "            fm_plus_delta = feature_map.view(a * b, c * d)\n",
    "            \n",
    "            G = torch.mm(fm_minus_delta, fm_plus_delta.t())  # compute the gram product\n",
    "        return G.div(a * b * c * d)\n",
    "        # return gram_matrices\n",
    "   \n",
    "    \n",
    "    def get_style_loss(self, Y_hat, Y, reduction='sum', deltas=[], stride=1):\n",
    "        # Y_hat is the generated image's feature map\n",
    "        # Y is the style image's feature map\n",
    "        loss = 0\n",
    "        count = 0\n",
    "        \n",
    "        for key, y in Y.items():\n",
    "            if key in Y_hat.keys():\n",
    "                y_hat = Y_hat[key]\n",
    "\n",
    "                G = self.get_gram(y_hat)\n",
    "                A = self.get_gram(y)\n",
    "                Lstyle = F.mse_loss(G, A.detach(),reduction='sum')\n",
    "                Lcc = 0\n",
    "                fac_sum = 1.0\n",
    "                for i, delta in enumerate(deltas):\n",
    "                    A_x = self.get_gram(y,delta=delta,dir=0)\n",
    "                    A_y = self.get_gram(y,delta=delta,dir=1)\n",
    "                    \n",
    "                    fac = 1.0/(1.0+i) \n",
    "                    Lcc += fac * 0.5 * ( F.mse_loss(G, A_x.detach(),reduction='sum')\n",
    "                                            + F.mse_loss(G, A_y.detach(),reduction='sum'))\n",
    "                    fac_sum += fac\n",
    "\n",
    "                    count += 1\n",
    "        loss = (Lstyle+Lcc)/fac_sum\n",
    "        # for A, G in zip(gram_style_image,gram_generated_image):\n",
    "        #     loss += F.mse_loss(G, A.detach(),reduction='sum')\n",
    "        return loss\n",
    "    \n",
    "    def get_regularizer_refs(self, img):\n",
    "        eps = 1e-10\n",
    "        L2 = torch.sqrt(img[:,0,:,:]**2 + img[:,1,:,:]**2 + img[:,2,:,:]**2 + eps)\n",
    "        B = L2.mean()\n",
    "\n",
    "        d_dx = img[:,:,1:,:]-img[:,:,:-1,:]\n",
    "        d_dy = img[:,:,:,1:]-img[:,:,:,:-1]\n",
    "        L2 = torch.sqrt(d_dx[:,:,:,1:]**2 + d_dy[:,:,1:,:]**2 + eps)\n",
    "        V = L2.mean()\n",
    "        return B, V\n",
    "\n",
    "    def get_int_loss(self, img):\n",
    "        # Intensity loss\n",
    "        H = img.shape[2]\n",
    "        W = img.shape[3]\n",
    "        eps = 1e-10\n",
    "        L2 = torch.sqrt(img[:,0,:,:]**2 + img[:,1,:,:]**2 + img[:,2,:,:]**2 + eps)\n",
    "        \n",
    "        loss = 1./H/W/(self.B**self.alpha) * torch.sum(L2**self.alpha)\n",
    "        \n",
    "        return loss\n",
    "\n",
    "    def get_clamp_loss(self, img):\n",
    "#         loss = torch.sum(img[img>1.0]**2) + torch.sum((1.0-img[img<0.0])**2)\n",
    "        H = img.shape[2]\n",
    "        W = img.shape[3]\n",
    "        loss = 1.0/H/W * (torch.sum(torch.abs(img[img>1.0]-1.0)**2) + torch.sum(torch.abs(img[img<0.0])**2))\n",
    "        return loss\n",
    "\n",
    "    def get_TV_loss(self, img):\n",
    "        # Total variation loss\n",
    "        H = img.shape[2]\n",
    "        W = img.shape[3]\n",
    "        C = img.shape[1]\n",
    "        eps = 1e-10 # avoids accidentally taking the sqrt of a negative number because of rounding errors\n",
    "\n",
    "        # # total variation\n",
    "        d_dx = img[:,:,1:,:]-img[:,:,:-1,:]\n",
    "        d_dy = img[:,:,:,1:]-img[:,:,:,:-1]\n",
    "        # I ignore the first row or column of the image when computing the norm, in order to have vectors with matching sizes\n",
    "        # Thus, d_dx and d_dy are not strictly colocated, but that should be a good enough approximation because neighbouring pixels are correlated\n",
    "        L2 = torch.sqrt(d_dx[:,:,:,1:]**2 + d_dy[:,:,1:,:]**2 + eps)\n",
    "        TV = torch.sum(L2**self.beta) # intensity regularizer\n",
    "\n",
    "        loss = 1./H/W/(self.V**self.beta) * TV\n",
    "#         loss = 1./H/W * (torch.sum(d_dx**2) + torch.sum(d_dy**2))\n",
    "        return loss\n",
    "    \n",
    "    def _adjust_weight(self,weight,loss,last_loss):\n",
    "        lb, ub = self.weight_adjust_bounds\n",
    "        lfac, ufac = self.weight_adjust_fac\n",
    "        if weight>1e-10: # if weight_ini=0, the user wants to switch the weight off, we don't want to accidentally activate it because of rounding errors\n",
    "            \n",
    "            if weight*loss<lb*(self.content_weight*self.content_loss):\n",
    "                weight *= lfac\n",
    "            if loss<last_loss: # i.e. decrease the weights only if that loss is decreasing\n",
    "                print(\"active\")\n",
    "                if weight*loss>ub*(self.content_weight*self.content_loss):\n",
    "                    weight *= ufac\n",
    "        return weight\n",
    "                \n",
    "    def adjust_weights(self):\n",
    "        self.tv_weight = self._adjust_weight(self.tv_weight,self.tv_loss,self.last_tv_loss)\n",
    "        self.int_weight = self._adjust_weight(self.int_weight,self.int_loss, self.last_int_loss)\n",
    "          \n",
    "        if self.clamp_loss>1e-10:\n",
    "            self.clamp_weight = self._adjust_weight(self.clamp_weight,self.clamp_loss, self.last_clamp_loss)\n",
    "        self.last_tv_loss = self.tv_loss\n",
    "        self.last_int_loss = self.int_loss\n",
    "        self.last_clamp_loss = self.clamp_loss        \n",
    "\n",
    "    def forward(self,img,feature_map_gen, feature_map_content, feature_map_style, content_weights,style_deltas=[]):\n",
    "#         self.content_loss = self.get_content_loss(feature_map, feature_map_target)\n",
    "        self.content_loss = 0\n",
    "        # w_sum = 0\n",
    "        # for fm_content, w in zip(feature_map_content, content_weights):\n",
    "        #         self.content_loss += w * self.get_content_loss(feature_map_gen, fm_content,reduction='mean')        \n",
    "        #         w_sum += w\n",
    "        # self.content_loss /= w_sum\n",
    "\n",
    "        w_sum = 0\n",
    "        for fm_content, w in zip(feature_map_content, content_weights):\n",
    "                self.content_loss += self.get_content_loss(feature_map_gen, fm_content,reduction='mean')        \n",
    "                w_sum += w\n",
    "        # self.content_loss /= w_sum\n",
    "\n",
    "        self.style_loss = 0\n",
    "        count = 0\n",
    "\n",
    "\n",
    "        \n",
    "\n",
    "        # for fm_style in feature_map_style:\n",
    "        #     self.style_loss += self.get_style_loss(feature_map_gen, fm_style,reduction='sum',deltas=style_deltas)\n",
    "        #     count += 1\n",
    "        # self.style_loss /= count\n",
    "\n",
    "        self.int_loss = self.get_int_loss(img)\n",
    "        self.tv_loss = self.get_int_loss(img)\n",
    "        self.clamp_loss = self.get_clamp_loss(img)\n",
    "        \n",
    "        self.total_loss = ( self.content_weight*self.content_loss\n",
    "                    + self.style_weight*self.style_loss \n",
    "                    + self.int_weight*self.int_loss \n",
    "                    + self.tv_weight*self.tv_loss \n",
    "                    + self.clamp_weight*self.clamp_loss )\n",
    "        \n",
    "        return self.total_loss"
   ]
  },
  {
   "cell_type": "markdown",
   "id": "_i4eIpMmw-ey",
   "metadata": {
    "id": "_i4eIpMmw-ey"
   },
   "source": [
    "# Device setup"
   ]
  },
  {
   "cell_type": "code",
   "execution_count": 6,
   "id": "eEA1laPO7gVX",
   "metadata": {
    "colab": {
     "base_uri": "https://localhost:8080/"
    },
    "executionInfo": {
     "elapsed": 232,
     "status": "ok",
     "timestamp": 1625217908745,
     "user": {
      "displayName": "Arthur Bauville",
      "photoUrl": "",
      "userId": "13412020910432312638"
     },
     "user_tz": -540
    },
    "id": "eEA1laPO7gVX",
    "outputId": "0832a4d9-91e3-4ae8-fcd4-bd1742ed0d0b"
   },
   "outputs": [
    {
     "name": "stdout",
     "output_type": "stream",
     "text": [
      "Using device: cpu\n",
      "\n"
     ]
    }
   ],
   "source": [
    "# setting device on GPU if available, else CPU\n",
    "device = torch.device('cuda' if torch.cuda.is_available() else 'cpu')\n",
    "print('Using device:', device)\n",
    "print()\n",
    "\n",
    "#Additional Info when using cuda\n",
    "if device.type == 'cuda':\n",
    "    print(torch.cuda.get_device_name(0))\n",
    "    print('Memory Usage:')\n",
    "    print('Allocated:', round(torch.cuda.memory_allocated(0)/1024**3,1), 'GB')\n",
    "    print('Cached:   ', round(torch.cuda.memory_reserved(0)/1024**3,1), 'GB')"
   ]
  },
  {
   "cell_type": "markdown",
   "id": "cvkQB8w94i4S",
   "metadata": {
    "id": "cvkQB8w94i4S"
   },
   "source": [
    "# Train 1"
   ]
  },
  {
   "cell_type": "code",
   "execution_count": 17,
   "id": "1bbaa1ef-6137-49f5-b0c3-c5b179695e86",
   "metadata": {
    "colab": {
     "base_uri": "https://localhost:8080/",
     "height": 373
    },
    "executionInfo": {
     "elapsed": 4013,
     "status": "ok",
     "timestamp": 1625217940815,
     "user": {
      "displayName": "Arthur Bauville",
      "photoUrl": "",
      "userId": "13412020910432312638"
     },
     "user_tz": -540
    },
    "id": "1bbaa1ef-6137-49f5-b0c3-c5b179695e86",
    "outputId": "afe87003-6724-445e-981f-f428d017fae2"
   },
   "outputs": [
    {
     "data": {
      "image/png": "[encoded data removed]",
      "text/plain": [
       "<Figure size 360x360 with 1 Axes>"
      ]
     },
     "metadata": {
      "needs_background": "light"
     },
     "output_type": "display_data"
    }
   ],
   "source": [
    "# device = 'cpu'\n",
    "\n",
    "# Images\n",
    "# content_im = skimage.io.imread(\"https://github.com/scijs/baboon-image/blob/master/baboon.png?raw=true\")\n",
    "content_im = skimage.io.imread(\"https://github.com/abauville/Neural_style_transfer/blob/main/Data/IMG_20210617_094559.jpg?raw=true\")\n",
    "style_im = skimage.io.imread(\"https://github.com/abauville/Neural_style_transfer/blob/main/Data/matisse_cat.jpeg?raw=true\")\n",
    "# content_im = skimage.io.imread(\"https://github.com/abauville/Neural_style_transfer/blob/main/Data/matisse_cat.jpeg?raw=true\")\n",
    "# content_im = skimage.io.imread(\"https://images.creativemarket.com/0.1.0/ps/229921/580/435/m1/fpnw/wm0/texture_brick_wall_by_mipistock-d85g99q-(2)-.jpg?1415298838&s=3863fa0ee7d914425b7621f2753bdc1c\")\n",
    "\n",
    "fig, ax = plt.subplots(1,1,figsize=[5,5])\n",
    "_ = plt.imshow(content_im); plt.title(\"content\"); _ = plt.axis(\"off\")\n",
    "\n",
    "content_layer = [7]\n",
    "\n",
    "# style_layers  = [7, 14, 21, 28]\n",
    "style_layers  = [7]\n",
    "\n",
    "all_layers = list(set(content_layer+style_layers))\n",
    "all_layers.sort()\n",
    "\n",
    "content_list = []\n",
    "content_list_weights = []\n",
    "for res in [96]:\n",
    "    for i in [0]:\n",
    "        for j in [0]:\n",
    "            content_list.append(Image(img=content_im, optimizable=False, img_shape=[res,res],\n",
    "                                      shift_ini_i=i, shift_ini_j=j).to(device))\n",
    "            content_list_weights.append(1.0/(1.0+(i**2 + j**2)))\n",
    "content_list_weights = np.array(content_list_weights)\n",
    "img_style = Image(img=style_im, optimizable=False, img_shape=[res,res],\n",
    "                  shift_ini_i=i, shift_ini_j=j).to(device)\n",
    "\n",
    "img_gen = Image(None, optimizable=True, img_shape=[96,96]).to(device)\n",
    "\n",
    "# SmallNet\n",
    "net = SmallNet(pretrained_net, all_layers[-1])\n",
    "\n",
    "# Losses\n",
    "loss_fn = Losses(content_list[0](),\n",
    "                 content_weight = 1.0,\n",
    "                 style_weight = 0.0,\n",
    "                 tv_weight_ini=0.0, \n",
    "                 int_weight_ini=0.0,\n",
    "                 clamp_weight_ini=0.0,\n",
    "                 weight_adjust_bounds=[0.01, 0.1],\n",
    "                 weight_adjust_fac=[1.5, 0.75])\n",
    "\n",
    "# Optimizer\n",
    "optimizer = torch.optim.LBFGS(img_gen.parameters(),lr=1.0)\n",
    "abs_loss_limit = 1e-3\n",
    "rel_loss_limit = 1e-7\n",
    "\n",
    "# Jitter the input image?\n",
    "jitter_nsteps = 0\n",
    "adjust_weight_n_steps = 10000\n",
    "\n",
    "# Feature maps\n",
    "fm_content = []\n",
    "for img_c in content_list:\n",
    "    fm_c = net(img_c(), content_layer)\n",
    "    fm_content.append(fm_c)\n",
    "\n",
    "fm_style = [net(img_style(), style_layers)]"
   ]
  },
  {
   "cell_type": "code",
   "execution_count": 18,
   "id": "vPScPGd4ZZut",
   "metadata": {
    "colab": {
     "base_uri": "https://localhost:8080/"
    },
    "executionInfo": {
     "elapsed": 15,
     "status": "ok",
     "timestamp": 1625217940816,
     "user": {
      "displayName": "Arthur Bauville",
      "photoUrl": "",
      "userId": "13412020910432312638"
     },
     "user_tz": -540
    },
    "id": "vPScPGd4ZZut",
    "outputId": "0e908bc6-f1fe-4196-8fea-b19fc3063883"
   },
   "outputs": [
    {
     "data": {
      "text/plain": [
       "tensor([[[[0.8863, 0.8863, 0.8863,  ..., 0.8000, 0.8000, 0.7961],\n",
       "          [0.8902, 0.8902, 0.8863,  ..., 0.8039, 0.8039, 0.8000],\n",
       "          [0.8902, 0.8941, 0.8902,  ..., 0.8078, 0.8039, 0.8039],\n",
       "          ...,\n",
       "          [0.8039, 0.7922, 0.8431,  ..., 0.7922, 0.8039, 0.8157],\n",
       "          [0.9020, 0.9255, 0.9529,  ..., 0.7333, 0.7882, 0.8039],\n",
       "          [0.7216, 0.8275, 0.7922,  ..., 0.5216, 0.6078, 0.7412]],\n",
       "\n",
       "         [[0.8863, 0.8863, 0.8863,  ..., 0.8039, 0.8039, 0.8000],\n",
       "          [0.8902, 0.8863, 0.8863,  ..., 0.8039, 0.8039, 0.8039],\n",
       "          [0.8902, 0.8902, 0.8863,  ..., 0.8078, 0.8078, 0.8039],\n",
       "          ...,\n",
       "          [0.7961, 0.7882, 0.8392,  ..., 0.8039, 0.8235, 0.8353],\n",
       "          [0.8784, 0.9059, 0.9490,  ..., 0.7451, 0.8039, 0.8235],\n",
       "          [0.6941, 0.8118, 0.7882,  ..., 0.5255, 0.6235, 0.7647]],\n",
       "\n",
       "         [[0.8863, 0.8863, 0.8824,  ..., 0.8118, 0.8118, 0.8078],\n",
       "          [0.8902, 0.8863, 0.8863,  ..., 0.8118, 0.8118, 0.8078],\n",
       "          [0.8902, 0.8902, 0.8902,  ..., 0.8157, 0.8157, 0.8118],\n",
       "          ...,\n",
       "          [0.8196, 0.8235, 0.8667,  ..., 0.8353, 0.8588, 0.8627],\n",
       "          [0.8784, 0.9059, 0.9451,  ..., 0.7765, 0.8353, 0.8510],\n",
       "          [0.6980, 0.8196, 0.8235,  ..., 0.5608, 0.6745, 0.8000]]]])"
      ]
     },
     "execution_count": 18,
     "metadata": {},
     "output_type": "execute_result"
    }
   ],
   "source": [
    "content_list[0]()"
   ]
  },
  {
   "cell_type": "code",
   "execution_count": 19,
   "id": "1QrEcJA68n1a",
   "metadata": {
    "colab": {
     "base_uri": "https://localhost:8080/"
    },
    "executionInfo": {
     "elapsed": 12,
     "status": "ok",
     "timestamp": 1625217940816,
     "user": {
      "displayName": "Arthur Bauville",
      "photoUrl": "",
      "userId": "13412020910432312638"
     },
     "user_tz": -540
    },
    "id": "1QrEcJA68n1a",
    "outputId": "34413255-68d1-404e-c4f1-c2308a05cce3"
   },
   "outputs": [
    {
     "data": {
      "text/plain": [
       "[7]"
      ]
     },
     "execution_count": 19,
     "metadata": {},
     "output_type": "execute_result"
    }
   ],
   "source": [
    "all_layers = list(set(content_layer+style_layers))\n",
    "\n",
    "all_layers"
   ]
  },
  {
   "cell_type": "markdown",
   "id": "NI3n9k9a48ui",
   "metadata": {
    "id": "NI3n9k9a48ui"
   },
   "source": [
    "# Train 2"
   ]
  },
  {
   "cell_type": "code",
   "execution_count": 20,
   "id": "05038f8a-9d12-4d81-9df1-dca0b8be45d1",
   "metadata": {
    "colab": {
     "base_uri": "https://localhost:8080/",
     "height": 936
    },
    "executionInfo": {
     "elapsed": 2170,
     "status": "ok",
     "timestamp": 1625217942977,
     "user": {
      "displayName": "Arthur Bauville",
      "photoUrl": "",
      "userId": "13412020910432312638"
     },
     "user_tz": -540
    },
    "id": "05038f8a-9d12-4d81-9df1-dca0b8be45d1",
    "outputId": "2b1a41f4-d093-43d6-e277-eb6e93a12cb7"
   },
   "outputs": [
    {
     "name": "stdout",
     "output_type": "stream",
     "text": [
      "tensor(-2.2351, grad_fn=<SelectBackward>)\n",
      "tensor(-2.2336, grad_fn=<SelectBackward>)\n",
      "tensor(-5.0894, grad_fn=<SelectBackward>)\n",
      "tensor(-4.1901, grad_fn=<SelectBackward>)\n",
      "tensor(-2.8412, grad_fn=<SelectBackward>)\n",
      "tensor(-3.3164, grad_fn=<SelectBackward>)\n",
      "tensor(-4.1650, grad_fn=<SelectBackward>)\n",
      "tensor(-3.7106, grad_fn=<SelectBackward>)\n",
      "tensor(-3.4505, grad_fn=<SelectBackward>)\n",
      "tensor(-3.0610, grad_fn=<SelectBackward>)\n",
      "tensor(-3.0647, grad_fn=<SelectBackward>)\n",
      "tensor(-3.0263, grad_fn=<SelectBackward>)\n",
      "tensor(-3.0867, grad_fn=<SelectBackward>)\n",
      "tensor(-3.4743, grad_fn=<SelectBackward>)\n",
      "tensor(-3.4838, grad_fn=<SelectBackward>)\n",
      "tensor(-3.5519, grad_fn=<SelectBackward>)\n",
      "tensor(-3.5674, grad_fn=<SelectBackward>)\n",
      "tensor(-3.4248, grad_fn=<SelectBackward>)\n",
      "tensor(-3.4165, grad_fn=<SelectBackward>)\n",
      "tensor(-3.2578, grad_fn=<SelectBackward>)\n"
     ]
    },
    {
     "data": {
      "image/png": "[encoded data removed]",
      "text/plain": [
       "<Figure size 720x720 with 1 Axes>"
      ]
     },
     "metadata": {
      "needs_background": "light"
     },
     "output_type": "display_data"
    }
   ],
   "source": [
    "fig, ax = plt.subplots(1,1,figsize=[10,10])\n",
    "\n",
    "def closure():\n",
    "    optimizer.zero_grad()\n",
    "    fm_gen = net(img_gen(), all_layers)\n",
    "    \n",
    "    # loss = loss_fn(img_gen(), fm_gen, fm_content, fm_style, content_list_weights, style_deltas=[2,4,8,16,32])\n",
    "    loss = loss_fn(img_gen(), fm_gen, fm_content, fm_style, \n",
    "                   content_list_weights, \n",
    "                   style_deltas=[])\n",
    "#     print(loss_fn.content_loss)\n",
    "    print(fm_gen[7][0,0,0,0])\n",
    "    loss.backward()\n",
    "    return loss\n",
    "\n",
    "last_loss = 1e10\n",
    "frame = 0\n",
    "for i in range(1):\n",
    "    # weights = content_list_weights * (0.5+np.random.rand(*content_list_weights.shape))\n",
    "    # if i<jitter_nsteps:\n",
    "    #     fm_content = []\n",
    "    #     for img_c in content_list:\n",
    "    #         fm_c = net(img_c(jitter=True), content_layer)\n",
    "    #         fm_content.append(fm_c)\n",
    "    # elif i==jitter_nsteps:\n",
    "    #     fm_content = []\n",
    "    #     for img_c in content_list:\n",
    "    #         fm_c = net(img_c(jitter=False), content_layer)\n",
    "    #         fm_content.append(fm_c)\n",
    "    optimizer.step(closure)\n",
    "    \n",
    "    # # if i<adjust_weight_n_steps:\n",
    "    # #     loss_fn.adjust_weights()\n",
    "    \n",
    "    # if i%1==0:\n",
    "    #     with torch.no_grad():\n",
    "    #         plt.clf()\n",
    "    #         plt.imshow(img_gen.postprocess())\n",
    "            \n",
    "    #         plt.title(f\"epoch {i:02}, content, tv, intensity, clamp losses:\" + \n",
    "    #                   f\"{loss_fn.content_weight*loss_fn.content_loss:.2e}, \" + \n",
    "    #                   f\"{loss_fn.tv_weight*loss_fn.tv_loss:.2e}, \" +\n",
    "    #                   f\"{loss_fn.int_weight*loss_fn.int_loss:.2e}, \" + \n",
    "    #                   f\"{loss_fn.clamp_weight*loss_fn.clamp_loss:.2e}, \"+\n",
    "    #                   f\"total:{loss_fn.total_loss:.2e}, abs: {torch.abs(last_loss-loss_fn.total_loss):.2e}\")\n",
    "            \n",
    "    #         # plt.title(f\"epoch {i:02}, content, tv, intensity, clamp losses:\" + \n",
    "    #         #           f\"{loss_fn.content_weight:.2e}, \" + \n",
    "    #         #           f\"{loss_fn.tv_weight:.2e}, \" +\n",
    "    #         #           f\"{loss_fn.int_weight:.2e}, \" + \n",
    "    #         #           f\"{loss_fn.clamp_weight:.2e}, \"+\n",
    "    #         #           f\"total:{loss_fn.total_loss:.2e}, abs: {torch.abs(last_loss-loss_fn.total_loss):.2e}\")\n",
    "            \n",
    "\n",
    "    #         clear_output(wait = True)\n",
    "    #         display(fig)\n",
    "            \n",
    "    #         # plt.savefig(f\"./Output/Frame{frame:05d}\")\n",
    "    #         # frame += 1\n",
    "        \n",
    "    #         if loss_fn.total_loss<abs_loss_limit and loss_fn.clamp_loss<1e-8:\n",
    "    #             clear_output(wait = True)\n",
    "    #             print(f'success: absolute loss limit ({abs_loss_limit:.1e}) reached')\n",
    "    #             break\n",
    "    #         if torch.abs(last_loss-loss_fn.total_loss)<rel_loss_limit and loss_fn.clamp_loss<1e-8:\n",
    "    #             clear_output(wait = True)\n",
    "    #             print(f'stopped because relative loss limit ({rel_loss_limit:.1e})  was reached')\n",
    "    #             break\n",
    "\n",
    "    #         if loss_fn.total_loss.isnan():\n",
    "    #             print(f'stopped because loss is NaN')\n",
    "    #             break\n",
    "                \n",
    "    # last_loss = loss_fn.total_loss\n",
    "\n",
    "    # with torch.no_grad():\n",
    "    #     img_gen.img.data.clamp_(0,1)"
   ]
  },
  {
   "cell_type": "code",
   "execution_count": 11,
   "id": "-pi8gbMs9V3z",
   "metadata": {
    "executionInfo": {
     "elapsed": 8,
     "status": "aborted",
     "timestamp": 1625217912485,
     "user": {
      "displayName": "Arthur Bauville",
      "photoUrl": "",
      "userId": "13412020910432312638"
     },
     "user_tz": -540
    },
    "id": "-pi8gbMs9V3z"
   },
   "outputs": [
    {
     "data": {
      "text/plain": [
       "array([1.])"
      ]
     },
     "execution_count": 11,
     "metadata": {},
     "output_type": "execute_result"
    }
   ],
   "source": [
    "content_list_weights"
   ]
  },
  {
   "cell_type": "markdown",
   "id": "Av-VYvKsSigy",
   "metadata": {
    "id": "Av-VYvKsSigy"
   },
   "source": [
    "Next: carefully select the layers pass the right list to all relevant functions"
   ]
  },
  {
   "cell_type": "code",
   "execution_count": null,
   "id": "g2nRa8mXiQjs",
   "metadata": {
    "id": "g2nRa8mXiQjs"
   },
   "outputs": [],
   "source": []
  }
 ],
 "metadata": {
  "colab": {
   "collapsed_sections": [],
   "name": "Blog03_Transfer.ipynb",
   "provenance": [],
   "toc_visible": true
  },
  "kernelspec": {
   "display_name": "Python 3",
   "language": "python",
   "name": "python3"
  },
  "language_info": {
   "codemirror_mode": {
    "name": "ipython",
    "version": 3
   },
   "file_extension": ".py",
   "mimetype": "text/x-python",
   "name": "python",
   "nbconvert_exporter": "python",
   "pygments_lexer": "ipython3",
   "version": "3.8.0"
  },
  "widgets": {
   "application/vnd.jupyter.widget-state+json": {
    "044cac7b4cc84538a261a910f0b0dec8": {
     "model_module": "@jupyter-widgets/controls",
     "model_name": "ProgressStyleModel",
     "state": {
      "_model_module": "@jupyter-widgets/controls",
      "_model_module_version": "1.5.0",
      "_model_name": "ProgressStyleModel",
      "_view_count": null,
      "_view_module": "@jupyter-widgets/base",
      "_view_module_version": "1.2.0",
      "_view_name": "StyleView",
      "bar_color": null,
      "description_width": "initial"
     }
    },
    "04a6755b52bb49779d8f9771c5654d8b": {
     "model_module": "@jupyter-widgets/base",
     "model_name": "LayoutModel",
     "state": {
      "_model_module": "@jupyter-widgets/base",
      "_model_module_version": "1.2.0",
      "_model_name": "LayoutModel",
      "_view_count": null,
      "_view_module": "@jupyter-widgets/base",
      "_view_module_version": "1.2.0",
      "_view_name": "LayoutView",
      "align_content": null,
      "align_items": null,
      "align_self": null,
      "border": null,
      "bottom": null,
      "display": null,
      "flex": null,
      "flex_flow": null,
      "grid_area": null,
      "grid_auto_columns": null,
      "grid_auto_flow": null,
      "grid_auto_rows": null,
      "grid_column": null,
      "grid_gap": null,
      "grid_row": null,
      "grid_template_areas": null,
      "grid_template_columns": null,
      "grid_template_rows": null,
      "height": null,
      "justify_content": null,
      "justify_items": null,
      "left": null,
      "margin": null,
      "max_height": null,
      "max_width": null,
      "min_height": null,
      "min_width": null,
      "object_fit": null,
      "object_position": null,
      "order": null,
      "overflow": null,
      "overflow_x": null,
      "overflow_y": null,
      "padding": null,
      "right": null,
      "top": null,
      "visibility": null,
      "width": null
     }
    },
    "50fea2b143e34b3eb2e870c6272038c1": {
     "model_module": "@jupyter-widgets/controls",
     "model_name": "DescriptionStyleModel",
     "state": {
      "_model_module": "@jupyter-widgets/controls",
      "_model_module_version": "1.5.0",
      "_model_name": "DescriptionStyleModel",
      "_view_count": null,
      "_view_module": "@jupyter-widgets/base",
      "_view_module_version": "1.2.0",
      "_view_name": "StyleView",
      "description_width": ""
     }
    },
    "6832757c6ad84c80a38a4efffc2a9a2e": {
     "model_module": "@jupyter-widgets/base",
     "model_name": "LayoutModel",
     "state": {
      "_model_module": "@jupyter-widgets/base",
      "_model_module_version": "1.2.0",
      "_model_name": "LayoutModel",
      "_view_count": null,
      "_view_module": "@jupyter-widgets/base",
      "_view_module_version": "1.2.0",
      "_view_name": "LayoutView",
      "align_content": null,
      "align_items": null,
      "align_self": null,
      "border": null,
      "bottom": null,
      "display": null,
      "flex": null,
      "flex_flow": null,
      "grid_area": null,
      "grid_auto_columns": null,
      "grid_auto_flow": null,
      "grid_auto_rows": null,
      "grid_column": null,
      "grid_gap": null,
      "grid_row": null,
      "grid_template_areas": null,
      "grid_template_columns": null,
      "grid_template_rows": null,
      "height": null,
      "justify_content": null,
      "justify_items": null,
      "left": null,
      "margin": null,
      "max_height": null,
      "max_width": null,
      "min_height": null,
      "min_width": null,
      "object_fit": null,
      "object_position": null,
      "order": null,
      "overflow": null,
      "overflow_x": null,
      "overflow_y": null,
      "padding": null,
      "right": null,
      "top": null,
      "visibility": null,
      "width": null
     }
    },
    "74e0b1652130455282610086e242fde9": {
     "model_module": "@jupyter-widgets/base",
     "model_name": "LayoutModel",
     "state": {
      "_model_module": "@jupyter-widgets/base",
      "_model_module_version": "1.2.0",
      "_model_name": "LayoutModel",
      "_view_count": null,
      "_view_module": "@jupyter-widgets/base",
      "_view_module_version": "1.2.0",
      "_view_name": "LayoutView",
      "align_content": null,
      "align_items": null,
      "align_self": null,
      "border": null,
      "bottom": null,
      "display": null,
      "flex": null,
      "flex_flow": null,
      "grid_area": null,
      "grid_auto_columns": null,
      "grid_auto_flow": null,
      "grid_auto_rows": null,
      "grid_column": null,
      "grid_gap": null,
      "grid_row": null,
      "grid_template_areas": null,
      "grid_template_columns": null,
      "grid_template_rows": null,
      "height": null,
      "justify_content": null,
      "justify_items": null,
      "left": null,
      "margin": null,
      "max_height": null,
      "max_width": null,
      "min_height": null,
      "min_width": null,
      "object_fit": null,
      "object_position": null,
      "order": null,
      "overflow": null,
      "overflow_x": null,
      "overflow_y": null,
      "padding": null,
      "right": null,
      "top": null,
      "visibility": null,
      "width": null
     }
    },
    "7677dbd9ca004d4f8e4cc44213431bda": {
     "model_module": "@jupyter-widgets/controls",
     "model_name": "HTMLModel",
     "state": {
      "_dom_classes": [],
      "_model_module": "@jupyter-widgets/controls",
      "_model_module_version": "1.5.0",
      "_model_name": "HTMLModel",
      "_view_count": null,
      "_view_module": "@jupyter-widgets/controls",
      "_view_module_version": "1.5.0",
      "_view_name": "HTMLView",
      "description": "",
      "description_tooltip": null,
      "layout": "IPY_MODEL_74e0b1652130455282610086e242fde9",
      "placeholder": "​",
      "style": "IPY_MODEL_50fea2b143e34b3eb2e870c6272038c1",
      "value": " 528M/528M [00:07&lt;00:00, 75.8MB/s]"
     }
    },
    "bab8060f0b6449d8bf97f63ae91a58fa": {
     "model_module": "@jupyter-widgets/controls",
     "model_name": "FloatProgressModel",
     "state": {
      "_dom_classes": [],
      "_model_module": "@jupyter-widgets/controls",
      "_model_module_version": "1.5.0",
      "_model_name": "FloatProgressModel",
      "_view_count": null,
      "_view_module": "@jupyter-widgets/controls",
      "_view_module_version": "1.5.0",
      "_view_name": "ProgressView",
      "bar_style": "success",
      "description": "100%",
      "description_tooltip": null,
      "layout": "IPY_MODEL_04a6755b52bb49779d8f9771c5654d8b",
      "max": 553433881,
      "min": 0,
      "orientation": "horizontal",
      "style": "IPY_MODEL_044cac7b4cc84538a261a910f0b0dec8",
      "value": 553433881
     }
    },
    "c3ec3845d65344cfaf868bb2b1058b82": {
     "model_module": "@jupyter-widgets/controls",
     "model_name": "HBoxModel",
     "state": {
      "_dom_classes": [],
      "_model_module": "@jupyter-widgets/controls",
      "_model_module_version": "1.5.0",
      "_model_name": "HBoxModel",
      "_view_count": null,
      "_view_module": "@jupyter-widgets/controls",
      "_view_module_version": "1.5.0",
      "_view_name": "HBoxView",
      "box_style": "",
      "children": [
       "IPY_MODEL_bab8060f0b6449d8bf97f63ae91a58fa",
       "IPY_MODEL_7677dbd9ca004d4f8e4cc44213431bda"
      ],
      "layout": "IPY_MODEL_6832757c6ad84c80a38a4efffc2a9a2e"
     }
    }
   }
  }
 },
 "nbformat": 4,
 "nbformat_minor": 5
}
