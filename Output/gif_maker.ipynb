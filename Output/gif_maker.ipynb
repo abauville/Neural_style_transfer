{
 "cells": [
  {
   "cell_type": "code",
   "execution_count": 4,
   "id": "34e2b411-aae5-41ef-a76a-c95bbdbd726a",
   "metadata": {},
   "outputs": [],
   "source": [
    "from PIL import Image\n",
    "import glob\n",
    "# Create the frames\n",
    "frames = []\n",
    "imgs = glob.glob(\"*.jpg\")\n",
    "imgs.sort()\n",
    "for i in imgs:\n",
    "    new_frame = Image.open(i)\n",
    "    frames.append(new_frame)\n",
    "    \n",
    "# Save into a GIF file that loops forever\n",
    "frames[0].save('layer_29.gif', format='GIF',\n",
    "               append_images=frames[1:] + [frames[-1]]*5,\n",
    "               save_all=True,\n",
    "               duration=100, loop=0)"
   ]
  },
  {
   "cell_type": "code",
   "execution_count": 10,
   "id": "8bb81b2c-36f6-45af-86a2-4b4fa91b70cf",
   "metadata": {},
   "outputs": [
    {
     "data": {
      "text/plain": [
       "[]"
      ]
     },
     "execution_count": 10,
     "metadata": {},
     "output_type": "execute_result"
    }
   ],
   "source": [
    "imgs"
   ]
  },
  {
   "cell_type": "code",
   "execution_count": null,
   "id": "556fcac6-128b-482b-888c-e32fd35afa55",
   "metadata": {},
   "outputs": [],
   "source": []
  }
 ],
 "metadata": {
  "kernelspec": {
   "display_name": "Python 3",
   "language": "python",
   "name": "python3"
  },
  "language_info": {
   "codemirror_mode": {
    "name": "ipython",
    "version": 3
   },
   "file_extension": ".py",
   "mimetype": "text/x-python",
   "name": "python",
   "nbconvert_exporter": "python",
   "pygments_lexer": "ipython3",
   "version": "3.9.6"
  }
 },
 "nbformat": 4,
 "nbformat_minor": 5
}
